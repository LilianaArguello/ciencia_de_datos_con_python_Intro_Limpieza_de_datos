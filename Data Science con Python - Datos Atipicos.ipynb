{
 "cells": [
  {
   "cell_type": "markdown",
   "metadata": {},
   "source": [
    "# Ejercicio de datos atípicos\n",
    "Es tu turno de probar lo aprendido"
   ]
  },
  {
   "cell_type": "code",
   "execution_count": 2,
   "metadata": {},
   "outputs": [],
   "source": [
    "# Termina de importar todas las librerías necesarias\n",
    "import numpy as np\n",
    "import pandas as pd\n",
    "import matplotlib.pyplot as plt"
   ]
  },
  {
   "cell_type": "code",
   "execution_count": 3,
   "metadata": {},
   "outputs": [],
   "source": [
    "# Vamos a importar un dataset de github\n",
    "ride_sharing = pd.read_csv('https://raw.githubusercontent.com/LilianaArguello/ciencia_de_datos_con_python_Intro_Limpieza_de_datos/master/ride_sharing_modified.csv')"
   ]
  },
  {
   "cell_type": "markdown",
   "metadata": {},
   "source": [
    "Analizar:\n",
    "\n",
    "    1-¿Cuál es la distribución de edades de las personas que usan este servicio?\n",
    "    2- Notas algo extraño en los valores ¿cómo puedes verificarlo?\n",
    "    3- ¿Qué estrategia propones para su manejo?"
   ]
  },
  {
   "cell_type": "code",
   "execution_count": null,
   "metadata": {},
   "outputs": [],
   "source": []
  }
 ],
 "metadata": {
  "kernelspec": {
   "display_name": "Python 3",
   "language": "python",
   "name": "python3"
  },
  "language_info": {
   "codemirror_mode": {
    "name": "ipython",
    "version": 3
   },
   "file_extension": ".py",
   "mimetype": "text/x-python",
   "name": "python",
   "nbconvert_exporter": "python",
   "pygments_lexer": "ipython3",
   "version": "3.8.5"
  }
 },
 "nbformat": 4,
 "nbformat_minor": 2
}
